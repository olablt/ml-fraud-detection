{
 "cells": [
  {
   "cell_type": "markdown",
   "metadata": {},
   "source": [
    "# Fraud Detection\n",
    "Tasks\n",
    "- Explore/Visualize the dataset\n",
    "- Decide which features are important\n",
    "- Perform Machine Learning\n",
    "- Test the model on the testing set"
   ]
  },
  {
   "cell_type": "code",
   "execution_count": 3,
   "metadata": {},
   "outputs": [],
   "source": [
    "# from sklearn.model_selection import StratifiedShuffleSplit\n",
    "# from sklearn.linear_model import LogisticRegression\n",
    "from sklearn.metrics import classification_report\n",
    "from sklearn.preprocessing import scale\n",
    "import pandas as pd\n",
    "import numpy as np\n",
    "import random\n",
    "\n",
    "# plotting\n",
    "%matplotlib inline\n",
    "import matplotlib as mpl\n",
    "import matplotlib.pyplot as plt\n",
    "from matplotlib import style"
   ]
  },
  {
   "cell_type": "code",
   "execution_count": 18,
   "metadata": {
    "scrolled": true
   },
   "outputs": [
    {
     "data": {
      "text/html": [
       "<div>\n",
       "<style scoped>\n",
       "    .dataframe tbody tr th:only-of-type {\n",
       "        vertical-align: middle;\n",
       "    }\n",
       "\n",
       "    .dataframe tbody tr th {\n",
       "        vertical-align: top;\n",
       "    }\n",
       "\n",
       "    .dataframe thead th {\n",
       "        text-align: right;\n",
       "    }\n",
       "</style>\n",
       "<table border=\"1\" class=\"dataframe\">\n",
       "  <thead>\n",
       "    <tr style=\"text-align: right;\">\n",
       "      <th></th>\n",
       "      <th>Time</th>\n",
       "      <th>V1</th>\n",
       "      <th>V2</th>\n",
       "      <th>V3</th>\n",
       "      <th>V4</th>\n",
       "      <th>V5</th>\n",
       "      <th>V6</th>\n",
       "      <th>V7</th>\n",
       "      <th>V8</th>\n",
       "      <th>V9</th>\n",
       "      <th>...</th>\n",
       "      <th>V21</th>\n",
       "      <th>V22</th>\n",
       "      <th>V23</th>\n",
       "      <th>V24</th>\n",
       "      <th>V25</th>\n",
       "      <th>V26</th>\n",
       "      <th>V27</th>\n",
       "      <th>V28</th>\n",
       "      <th>Amount</th>\n",
       "      <th>Class</th>\n",
       "    </tr>\n",
       "  </thead>\n",
       "  <tbody>\n",
       "    <tr>\n",
       "      <th>0</th>\n",
       "      <td>46036.0</td>\n",
       "      <td>1.383124</td>\n",
       "      <td>-0.473727</td>\n",
       "      <td>-0.269092</td>\n",
       "      <td>-0.685397</td>\n",
       "      <td>-0.581139</td>\n",
       "      <td>-0.956491</td>\n",
       "      <td>-0.187497</td>\n",
       "      <td>-0.192919</td>\n",
       "      <td>-0.941386</td>\n",
       "      <td>...</td>\n",
       "      <td>0.208031</td>\n",
       "      <td>0.474484</td>\n",
       "      <td>-0.127966</td>\n",
       "      <td>0.085449</td>\n",
       "      <td>0.668673</td>\n",
       "      <td>-0.051763</td>\n",
       "      <td>-0.023889</td>\n",
       "      <td>-0.002531</td>\n",
       "      <td>25.00</td>\n",
       "      <td>0</td>\n",
       "    </tr>\n",
       "    <tr>\n",
       "      <th>1</th>\n",
       "      <td>58681.0</td>\n",
       "      <td>-3.468120</td>\n",
       "      <td>-0.763844</td>\n",
       "      <td>0.653345</td>\n",
       "      <td>1.871849</td>\n",
       "      <td>0.774126</td>\n",
       "      <td>-0.612556</td>\n",
       "      <td>-1.164009</td>\n",
       "      <td>1.012409</td>\n",
       "      <td>-0.561714</td>\n",
       "      <td>...</td>\n",
       "      <td>-0.105735</td>\n",
       "      <td>-0.124279</td>\n",
       "      <td>-1.414675</td>\n",
       "      <td>0.148606</td>\n",
       "      <td>0.214405</td>\n",
       "      <td>-0.152914</td>\n",
       "      <td>0.456543</td>\n",
       "      <td>-0.773358</td>\n",
       "      <td>45.64</td>\n",
       "      <td>0</td>\n",
       "    </tr>\n",
       "    <tr>\n",
       "      <th>2</th>\n",
       "      <td>28358.0</td>\n",
       "      <td>1.047085</td>\n",
       "      <td>-1.860195</td>\n",
       "      <td>0.569986</td>\n",
       "      <td>-1.381139</td>\n",
       "      <td>-1.708681</td>\n",
       "      <td>0.486737</td>\n",
       "      <td>-1.394539</td>\n",
       "      <td>0.327221</td>\n",
       "      <td>-1.655921</td>\n",
       "      <td>...</td>\n",
       "      <td>0.130376</td>\n",
       "      <td>0.374334</td>\n",
       "      <td>-0.080326</td>\n",
       "      <td>-0.314810</td>\n",
       "      <td>0.051365</td>\n",
       "      <td>-0.074530</td>\n",
       "      <td>0.040114</td>\n",
       "      <td>0.036037</td>\n",
       "      <td>178.00</td>\n",
       "      <td>0</td>\n",
       "    </tr>\n",
       "    <tr>\n",
       "      <th>3</th>\n",
       "      <td>164377.0</td>\n",
       "      <td>-0.794528</td>\n",
       "      <td>0.996394</td>\n",
       "      <td>-0.402718</td>\n",
       "      <td>-0.652480</td>\n",
       "      <td>1.153620</td>\n",
       "      <td>0.271515</td>\n",
       "      <td>0.473381</td>\n",
       "      <td>0.641194</td>\n",
       "      <td>-0.101067</td>\n",
       "      <td>...</td>\n",
       "      <td>0.004219</td>\n",
       "      <td>0.153865</td>\n",
       "      <td>0.014484</td>\n",
       "      <td>-1.144432</td>\n",
       "      <td>-0.596392</td>\n",
       "      <td>-0.069092</td>\n",
       "      <td>0.105480</td>\n",
       "      <td>0.116966</td>\n",
       "      <td>17.33</td>\n",
       "      <td>0</td>\n",
       "    </tr>\n",
       "    <tr>\n",
       "      <th>4</th>\n",
       "      <td>80254.0</td>\n",
       "      <td>-3.504999</td>\n",
       "      <td>2.892924</td>\n",
       "      <td>-1.548616</td>\n",
       "      <td>-1.644712</td>\n",
       "      <td>-1.130891</td>\n",
       "      <td>-0.048727</td>\n",
       "      <td>-1.563452</td>\n",
       "      <td>2.546492</td>\n",
       "      <td>-0.871279</td>\n",
       "      <td>...</td>\n",
       "      <td>0.288376</td>\n",
       "      <td>-0.095386</td>\n",
       "      <td>0.158928</td>\n",
       "      <td>-1.096405</td>\n",
       "      <td>-0.069475</td>\n",
       "      <td>0.787658</td>\n",
       "      <td>-1.197431</td>\n",
       "      <td>-0.167839</td>\n",
       "      <td>0.90</td>\n",
       "      <td>0</td>\n",
       "    </tr>\n",
       "  </tbody>\n",
       "</table>\n",
       "<p>5 rows × 31 columns</p>\n",
       "</div>"
      ],
      "text/plain": [
       "       Time        V1        V2        V3        V4        V5        V6  \\\n",
       "0   46036.0  1.383124 -0.473727 -0.269092 -0.685397 -0.581139 -0.956491   \n",
       "1   58681.0 -3.468120 -0.763844  0.653345  1.871849  0.774126 -0.612556   \n",
       "2   28358.0  1.047085 -1.860195  0.569986 -1.381139 -1.708681  0.486737   \n",
       "3  164377.0 -0.794528  0.996394 -0.402718 -0.652480  1.153620  0.271515   \n",
       "4   80254.0 -3.504999  2.892924 -1.548616 -1.644712 -1.130891 -0.048727   \n",
       "\n",
       "         V7        V8        V9  ...       V21       V22       V23       V24  \\\n",
       "0 -0.187497 -0.192919 -0.941386  ...  0.208031  0.474484 -0.127966  0.085449   \n",
       "1 -1.164009  1.012409 -0.561714  ... -0.105735 -0.124279 -1.414675  0.148606   \n",
       "2 -1.394539  0.327221 -1.655921  ...  0.130376  0.374334 -0.080326 -0.314810   \n",
       "3  0.473381  0.641194 -0.101067  ...  0.004219  0.153865  0.014484 -1.144432   \n",
       "4 -1.563452  2.546492 -0.871279  ...  0.288376 -0.095386  0.158928 -1.096405   \n",
       "\n",
       "        V25       V26       V27       V28  Amount  Class  \n",
       "0  0.668673 -0.051763 -0.023889 -0.002531   25.00      0  \n",
       "1  0.214405 -0.152914  0.456543 -0.773358   45.64      0  \n",
       "2  0.051365 -0.074530  0.040114  0.036037  178.00      0  \n",
       "3 -0.596392 -0.069092  0.105480  0.116966   17.33      0  \n",
       "4 -0.069475  0.787658 -1.197431 -0.167839    0.90      0  \n",
       "\n",
       "[5 rows x 31 columns]"
      ]
     },
     "execution_count": 18,
     "metadata": {},
     "output_type": "execute_result"
    }
   ],
   "source": [
    "# Read the CSV file\n",
    "df = pd.read_csv('creditcard.csv', low_memory=False)\n",
    "# Show the contents\n",
    "df = df.sample(frac=1).reset_index(drop=True)\n",
    "df.head()\n"
   ]
  },
  {
   "cell_type": "code",
   "execution_count": 38,
   "metadata": {},
   "outputs": [
    {
     "name": "stdout",
     "output_type": "stream",
     "text": [
      "                Time            V1            V2            V3            V4  \\\n",
      "count  284807.000000  2.848070e+05  2.848070e+05  2.848070e+05  2.848070e+05   \n",
      "mean    94813.859575  1.177182e-15  3.385972e-16 -1.399445e-15  2.093630e-15   \n",
      "std     47488.145955  1.958696e+00  1.651309e+00  1.516255e+00  1.415869e+00   \n",
      "min         0.000000 -5.640751e+01 -7.271573e+01 -4.832559e+01 -5.683171e+00   \n",
      "25%     54201.500000 -9.203734e-01 -5.985499e-01 -8.903648e-01 -8.486401e-01   \n",
      "50%     84692.000000  1.810880e-02  6.548556e-02  1.798463e-01 -1.984653e-02   \n",
      "75%    139320.500000  1.315642e+00  8.037239e-01  1.027196e+00  7.433413e-01   \n",
      "max    172792.000000  2.454930e+00  2.205773e+01  9.382558e+00  1.687534e+01   \n",
      "\n",
      "                 V5            V6            V7            V8            V9  \\\n",
      "count  2.848070e+05  2.848070e+05  2.848070e+05  2.848070e+05  2.848070e+05   \n",
      "mean   1.006511e-15  1.494698e-15 -5.619836e-16  1.145123e-16 -2.411994e-15   \n",
      "std    1.380247e+00  1.332271e+00  1.237094e+00  1.194353e+00  1.098632e+00   \n",
      "min   -1.137433e+02 -2.616051e+01 -4.355724e+01 -7.321672e+01 -1.343407e+01   \n",
      "25%   -6.915971e-01 -7.682956e-01 -5.540759e-01 -2.086297e-01 -6.430976e-01   \n",
      "50%   -5.433583e-02 -2.741871e-01  4.010308e-02  2.235804e-02 -5.142873e-02   \n",
      "75%    6.119264e-01  3.985649e-01  5.704361e-01  3.273459e-01  5.971390e-01   \n",
      "max    3.480167e+01  7.330163e+01  1.205895e+02  2.000721e+01  1.559499e+01   \n",
      "\n",
      "       ...           V21           V22           V23           V24  \\\n",
      "count  ...  2.848070e+05  2.848070e+05  2.848070e+05  2.848070e+05   \n",
      "mean   ...  1.612154e-16 -3.505474e-16  2.627796e-16  4.473365e-15   \n",
      "std    ...  7.345240e-01  7.257016e-01  6.244603e-01  6.056471e-01   \n",
      "min    ... -3.483038e+01 -1.093314e+01 -4.480774e+01 -2.836627e+00   \n",
      "25%    ... -2.283949e-01 -5.423504e-01 -1.618463e-01 -3.545861e-01   \n",
      "50%    ... -2.945017e-02  6.781943e-03 -1.119293e-02  4.097606e-02   \n",
      "75%    ...  1.863772e-01  5.285536e-01  1.476421e-01  4.395266e-01   \n",
      "max    ...  2.720284e+01  1.050309e+01  2.252841e+01  4.584549e+00   \n",
      "\n",
      "                V25           V26           V27           V28         Amount  \\\n",
      "count  2.848070e+05  2.848070e+05  2.848070e+05  2.848070e+05  284807.000000   \n",
      "mean   5.143824e-16  1.685402e-15 -3.659779e-16 -1.217224e-16      88.349619   \n",
      "std    5.212781e-01  4.822270e-01  4.036325e-01  3.300833e-01     250.120109   \n",
      "min   -1.029540e+01 -2.604551e+00 -2.256568e+01 -1.543008e+01       0.000000   \n",
      "25%   -3.171451e-01 -3.269839e-01 -7.083953e-02 -5.295979e-02       5.600000   \n",
      "50%    1.659350e-02 -5.213911e-02  1.342146e-03  1.124383e-02      22.000000   \n",
      "75%    3.507156e-01  2.409522e-01  9.104512e-02  7.827995e-02      77.165000   \n",
      "max    7.519589e+00  3.517346e+00  3.161220e+01  3.384781e+01   25691.160000   \n",
      "\n",
      "               Class  \n",
      "count  284807.000000  \n",
      "mean        0.001727  \n",
      "std         0.041527  \n",
      "min         0.000000  \n",
      "25%         0.000000  \n",
      "50%         0.000000  \n",
      "75%         0.000000  \n",
      "max         1.000000  \n",
      "\n",
      "[8 rows x 31 columns]\n"
     ]
    }
   ],
   "source": [
    "# get statistically summary of all the columns\n",
    "print(df.describe())"
   ]
  },
  {
   "cell_type": "code",
   "execution_count": 10,
   "metadata": {
    "scrolled": true
   },
   "outputs": [
    {
     "name": "stdout",
     "output_type": "stream",
     "text": [
      "492\n",
      "284315\n"
     ]
    }
   ],
   "source": [
    "fraud = df.loc[ df['Class'] == 1]\n",
    "non_fraud = df.loc[df['Class'] == 0]\n",
    "print(len(fraud))\n",
    "print(len(non_fraud))"
   ]
  },
  {
   "cell_type": "markdown",
   "metadata": {},
   "source": [
    "# What features are important?"
   ]
  },
  {
   "cell_type": "code",
   "execution_count": 22,
   "metadata": {
    "scrolled": true
   },
   "outputs": [
    {
     "data": {
      "image/png": "[encoded data removed]",
      "text/plain": [
       "<Figure size 864x360 with 1 Axes>"
      ]
     },
     "metadata": {},
     "output_type": "display_data"
    }
   ],
   "source": [
    "mpl.rc('figure', figsize = (12,5))\n",
    "style.use('ggplot')# Adjusting the style of matplotlib\n",
    "ax = fraud.plot.scatter(x='Amount', y='Class', color='Orange', label='Fraud')\n",
    "non_fraud.plot.scatter(x='Amount', y='Class', color='Blue', label='Normal', ax=ax)\n",
    "_ = plt.show()"
   ]
  },
  {
   "cell_type": "code",
   "execution_count": 44,
   "metadata": {},
   "outputs": [
    {
     "data": {
      "image/png": "[encoded data removed]",
      "text/plain": [
       "<Figure size 864x360 with 2 Axes>"
      ]
     },
     "metadata": {},
     "output_type": "display_data"
    }
   ],
   "source": [
    "import seaborn as sns\n",
    "sns.set(style='whitegrid', palette='muted', font_scale=1.5)\n",
    "\n",
    "f, (ax1, ax2) = plt.subplots(2, 1, sharex=True)\n",
    "f.suptitle('Amount per transaction by class')\n",
    "\n",
    "bins = 50\n",
    "\n",
    "ax1.hist(fraud.Amount, bins = bins)\n",
    "ax1.set_title('Fraud')\n",
    "ax2.hist(non_fraud.Amount, bins = bins)\n",
    "ax2.set_title('Normal')\n",
    "plt.xlabel('Amount ($)')\n",
    "plt.ylabel('Number of Transactions')\n",
    "plt.xlim((0, 20000))\n",
    "plt.yscale('log')\n",
    "plt.show();\n",
    "\n"
   ]
  },
  {
   "cell_type": "code",
   "execution_count": 64,
   "metadata": {},
   "outputs": [
    {
     "data": {
      "text/plain": [
       "Text(0, 0.5, 'Number of transactions')"
      ]
     },
     "execution_count": 64,
     "metadata": {},
     "output_type": "execute_result"
    },
    {
     "data": {
      "image/png": "[encoded data removed]",
      "text/plain": [
       "<Figure size 864x360 with 1 Axes>"
      ]
     },
     "metadata": {},
     "output_type": "display_data"
    }
   ],
   "source": [
    "sns.distplot(fraud.Amount, kde=False, label='Fraud Count');\n",
    "# sns.distplot(non_fraud.Amount, kde=False, label='NONFraud Amount');\n",
    "plt.legend(prop={'size': 12})\n",
    "plt.xlabel('Amount')\n",
    "plt.ylabel('Number of transactions') "
   ]
  },
  {
   "cell_type": "code",
   "execution_count": 28,
   "metadata": {},
   "outputs": [],
   "source": [
    "from sklearn import linear_model\n",
    "from sklearn.model_selection import train_test_split\n",
    "\n",
    "x = df.iloc[:, :-1]\n",
    "y = df['Class']\n",
    "\n",
    "X_train, X_test, Y_train, Y_test = train_test_split(x, y, test_size=0.35)"
   ]
  },
  {
   "cell_type": "code",
   "execution_count": 36,
   "metadata": {},
   "outputs": [
    {
     "name": "stderr",
     "output_type": "stream",
     "text": [
      "/opt/rh/rh-python36/root/usr/lib64/python3.6/site-packages/sklearn/linear_model/logistic.py:433: FutureWarning: Default solver will be changed to 'lbfgs' in 0.22. Specify a solver to silence this warning.\n",
      "  FutureWarning)\n"
     ]
    },
    {
     "name": "stdout",
     "output_type": "stream",
     "text": [
      "model_logistic Score: 0.9989867881183351\n"
     ]
    },
    {
     "name": "stderr",
     "output_type": "stream",
     "text": [
      "/opt/rh/rh-python36/root/usr/lib64/python3.6/site-packages/sklearn/linear_model/stochastic_gradient.py:166: FutureWarning: max_iter and tol parameters have been added in SGDRegressor in 0.19. If both are left unset, they default to max_iter=5 and tol=None. If tol is not None, max_iter defaults to max_iter=1000. From 0.21, default max_iter will be 1000, and default tol will be 1e-3.\n",
      "  FutureWarning)\n"
     ]
    },
    {
     "name": "stdout",
     "output_type": "stream",
     "text": [
      "model_sgd_score -7.563539726427711e+38\n"
     ]
    }
   ],
   "source": [
    "# Logistic\n",
    "model_logistic = linear_model.LogisticRegression(C=1e5) # C=1e5 p revents overfitting\n",
    "model_logistic.fit(X_train, Y_train)\n",
    "print('model_logistic Score:', model_logistic.score(X_test, Y_test))\n",
    "\n",
    "# SGD\n",
    "model_sgd = linear_model.SGDRegressor()\n",
    "model_sgd.fit(X_train, Y_train)\n",
    "model_sgd_score = model_sgd.score(X_test, Y_test)\n",
    "print(\"model_sgd_score\", model_sgd_score)"
   ]
  },
  {
   "cell_type": "code",
   "execution_count": 39,
   "metadata": {},
   "outputs": [
    {
     "name": "stdout",
     "output_type": "stream",
     "text": [
      "              precision    recall  f1-score   support\n",
      "\n",
      "           0       1.00      1.00      1.00     99524\n",
      "           1       0.71      0.62      0.66       159\n",
      "\n",
      "   micro avg       1.00      1.00      1.00     99683\n",
      "   macro avg       0.85      0.81      0.83     99683\n",
      "weighted avg       1.00      1.00      1.00     99683\n",
      "\n"
     ]
    }
   ],
   "source": [
    "from sklearn.metrics import classification_report\n",
    "\n",
    "y_predicted = np.array(logistic.predict(X_test))\n",
    "# print(y_predicted)\n",
    "\n",
    "print(classification_report(Y_test, y_predicted))"
   ]
  }
 ],
 "metadata": {
  "kernelspec": {
   "display_name": "Python 3",
   "language": "python",
   "name": "python3"
  },
  "language_info": {
   "codemirror_mode": {
    "name": "ipython",
    "version": 3
   },
   "file_extension": ".py",
   "mimetype": "text/x-python",
   "name": "python",
   "nbconvert_exporter": "python",
   "pygments_lexer": "ipython3",
   "version": "3.6.3"
  }
 },
 "nbformat": 4,
 "nbformat_minor": 2
}
